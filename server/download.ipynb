{
 "cells": [
  {
   "cell_type": "code",
   "execution_count": null,
   "id": "7a74206c",
   "metadata": {},
   "outputs": [
    {
     "name": "stderr",
     "output_type": "stream",
     "text": [
      "Fetching 9 files: 100%|██████████| 9/9 [00:08<00:00,  1.11it/s]\n"
     ]
    },
    {
     "data": {
      "text/plain": [
       "'/Users/vega/Downloads/HKU-Capstone-XY/server/qwen_reranker'"
      ]
     },
     "execution_count": 2,
     "metadata": {},
     "output_type": "execute_result"
    }
   ],
   "source": [
    "from modelscope import snapshot_download\n",
    "from sentence_transformers import SentenceTransformer, CrossEncoder\n",
    "\n",
    "embedding_dir = snapshot_download(\n",
    "    repo_id='Qwen/Qwen3-Embedding-0.6B',\n",
    "    cache_dir='./qwen_embeddings'    # 下载到当前文件夹下的 qwen_embeddings/\n",
    ")\n",
    "\n",
    "from huggingface_hub import snapshot_download\n",
    "from sentence_transformers import CrossEncoder\n",
    "\n",
    "snapshot_download(\n",
    "    repo_id=\"tomaarsen/Qwen3-Reranker-0.6B-seq-cls\",\n",
    "    cache_dir=\".\",\n",
    "    local_dir=\"qwen_reranker\",\n",
    "    local_files_only=False    # 保证缺文件时自动联网下载\n",
    ")"
   ]
  }
 ],
 "metadata": {
  "kernelspec": {
   "display_name": "XY_program",
   "language": "python",
   "name": "python3"
  },
  "language_info": {
   "codemirror_mode": {
    "name": "ipython",
    "version": 3
   },
   "file_extension": ".py",
   "mimetype": "text/x-python",
   "name": "python",
   "nbconvert_exporter": "python",
   "pygments_lexer": "ipython3",
   "version": "3.11.11"
  }
 },
 "nbformat": 4,
 "nbformat_minor": 5
}
