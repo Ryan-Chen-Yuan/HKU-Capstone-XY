{
 "cells": [
  {
   "cell_type": "code",
   "execution_count": 8,
   "id": "7a74206c",
   "metadata": {},
   "outputs": [
    {
     "name": "stderr",
     "output_type": "stream",
     "text": [
      "Fetching 12 files: 100%|██████████| 12/12 [00:10<00:00,  1.20it/s]\n"
     ]
    }
   ],
   "source": [
    "from huggingface_hub import snapshot_download\n",
    "from sentence_transformers import SentenceTransformer\n",
    "import torch\n",
    "\n",
    "# 1. 指定把模型下载到当前项目的子目录（这里以 ./qwen_embeddings_0.6b 为例）\n",
    "local_path = snapshot_download(\n",
    "    repo_id=\"Qwen/Qwen3-Embedding-0.6B\",   # 正确的 repo_id  [oai_citation:0‡Hugging Face](https://huggingface.co/Qwen/Qwen3-Embedding-0.6B?utm_source=chatgpt.com)\n",
    "    cache_dir=\".\",\n",
    "    local_dir=\"qwen_embeddings\",\n",
    "    local_files_only=False    # 缺文件时自动联网下载\n",
    ")\n",
    "\n",
    "# 自动选择设备：优先 MPS，其次 CPU\n",
    "device = \"mps\" if torch.backends.mps.is_available() else \"cpu\"\n",
    "\n",
    "# 加载已经转换好的 seq-cls 模型\n",
    "\n",
    "# 从本地加载\n",
    "# embedding_model = SentenceTransformer(local_path)\n",
    "embedder = SentenceTransformer(\n",
    "    \"Qwen/Qwen3-Embedding-0.6B\",\n",
    "    device=device,\n",
    "    cache_folder=\"./qwen_embeddings\"\n",
    ")"
   ]
  },
  {
   "cell_type": "code",
   "execution_count": 7,
   "id": "24ce5561",
   "metadata": {},
   "outputs": [
    {
     "name": "stderr",
     "output_type": "stream",
     "text": [
      "Fetching 9 files: 100%|██████████| 9/9 [00:57<00:00,  6.38s/it]\n"
     ]
    }
   ],
   "source": [
    "from huggingface_hub import snapshot_download\n",
    "from sentence_transformers import CrossEncoder\n",
    "import torch\n",
    "\n",
    "rerank_path = snapshot_download(\n",
    "    repo_id=\"tomaarsen/Qwen3-Reranker-0.6B-seq-cls\",\n",
    "    cache_dir=\".\",\n",
    "    local_dir=\"qwen_reranker\",\n",
    "    local_files_only=False    # 缺文件时自动联网下载\n",
    ")\n",
    "\n",
    "# 自动选择设备：优先 MPS，其次 CPU\n",
    "device = \"mps\" if torch.backends.mps.is_available() else \"cpu\"\n",
    "\n",
    "# 加载已经转换好的 seq-cls 模型\n",
    "reranker = CrossEncoder(\n",
    "    \"./qwen_reranker\",\n",
    "    device=device,\n",
    "    trust_remote_code=True\n",
    ")"
   ]
  }
 ],
 "metadata": {
  "kernelspec": {
   "display_name": "XY_program",
   "language": "python",
   "name": "python3"
  },
  "language_info": {
   "codemirror_mode": {
    "name": "ipython",
    "version": 3
   },
   "file_extension": ".py",
   "mimetype": "text/x-python",
   "name": "python",
   "nbconvert_exporter": "python",
   "pygments_lexer": "ipython3",
   "version": "3.11.11"
  }
 },
 "nbformat": 4,
 "nbformat_minor": 5
}
